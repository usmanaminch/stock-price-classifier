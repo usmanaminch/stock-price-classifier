{
  "cells": [
    {
      "cell_type": "markdown",
      "metadata": {
        "id": "view-in-github",
        "colab_type": "text"
      },
      "source": [
        "<a href=\"https://colab.research.google.com/github/usmanaminch/stock-price-classifier/blob/main/Stock_Price_Classifier_Upgraded.ipynb\" target=\"_parent\"><img src=\"https://colab.research.google.com/assets/colab-badge.svg\" alt=\"Open In Colab\"/></a>"
      ]
    },
    {
      "cell_type": "code",
      "execution_count": 1,
      "id": "5f10b106",
      "metadata": {
        "id": "5f10b106"
      },
      "outputs": [],
      "source": [
        "# Install required packages (if running locally)\n",
        "# !pip install yfinance scikit-learn matplotlib pandas seaborn joblib\n",
        "\n",
        "import yfinance as yf\n",
        "import pandas as pd\n",
        "import numpy as np\n",
        "import matplotlib.pyplot as plt\n",
        "import seaborn as sns\n",
        "import joblib\n",
        "\n",
        "from sklearn.model_selection import train_test_split\n",
        "from sklearn.ensemble import RandomForestClassifier\n",
        "from sklearn.linear_model import LogisticRegression\n",
        "from sklearn.metrics import classification_report, confusion_matrix, accuracy_score\n",
        "\n",
        "sns.set()\n"
      ]
    },
    {
      "cell_type": "markdown",
      "id": "772b241e",
      "metadata": {
        "id": "772b241e"
      },
      "source": [
        "# 📈 Stock Price Direction Classifier — Upgraded Version\n",
        "A machine learning model to predict whether the next day's market return will be positive or negative. Includes momentum indicators, baseline comparisons, and backtest with Sharpe Ratio."
      ]
    },
    {
      "cell_type": "markdown",
      "id": "35d3fee8",
      "metadata": {
        "id": "35d3fee8"
      },
      "source": [
        "## 🧩 Step 1: Load Market Data"
      ]
    },
    {
      "cell_type": "code",
      "execution_count": 2,
      "id": "04e35069",
      "metadata": {
        "colab": {
          "base_uri": "https://localhost:8080/",
          "height": 321
        },
        "id": "04e35069",
        "outputId": "bc7b368e-d545-4215-c199-db43a3391526"
      },
      "outputs": [
        {
          "output_type": "stream",
          "name": "stderr",
          "text": [
            "/tmp/ipython-input-2-955893829.py:2: FutureWarning: YF.download() has changed argument auto_adjust default to True\n",
            "  data = yf.download(ticker, start='2018-01-01', end='2024-12-31')\n",
            "[*********************100%***********************]  1 of 1 completed\n"
          ]
        },
        {
          "output_type": "execute_result",
          "data": {
            "text/plain": [
              "Price            Close        High         Low        Open    Volume  \\\n",
              "Ticker             SPY         SPY         SPY         SPY       SPY   \n",
              "Date                                                                   \n",
              "2018-01-03  240.077667  240.228576  238.737335  238.737335  90070400   \n",
              "2018-01-04  241.089584  241.577798  240.139839  240.725679  80636400   \n",
              "2018-01-05  242.696182  242.820437  241.391363  241.888434  83524000   \n",
              "2018-01-08  243.140106  243.299873  242.305730  242.598637  57319200   \n",
              "2018-01-09  243.690369  244.320579  243.282039  243.566087  57254000   \n",
              "\n",
              "Price         Return Direction  \n",
              "Ticker                          \n",
              "Date                            \n",
              "2018-01-03  0.006325         1  \n",
              "2018-01-04  0.004215         1  \n",
              "2018-01-05  0.006664         1  \n",
              "2018-01-08  0.001829         1  \n",
              "2018-01-09  0.002263         1  "
            ],
            "text/html": [
              "\n",
              "  <div id=\"df-a453f44a-2a0b-4d19-812e-60763cd0de33\" class=\"colab-df-container\">\n",
              "    <div>\n",
              "<style scoped>\n",
              "    .dataframe tbody tr th:only-of-type {\n",
              "        vertical-align: middle;\n",
              "    }\n",
              "\n",
              "    .dataframe tbody tr th {\n",
              "        vertical-align: top;\n",
              "    }\n",
              "\n",
              "    .dataframe thead tr th {\n",
              "        text-align: left;\n",
              "    }\n",
              "\n",
              "    .dataframe thead tr:last-of-type th {\n",
              "        text-align: right;\n",
              "    }\n",
              "</style>\n",
              "<table border=\"1\" class=\"dataframe\">\n",
              "  <thead>\n",
              "    <tr>\n",
              "      <th>Price</th>\n",
              "      <th>Close</th>\n",
              "      <th>High</th>\n",
              "      <th>Low</th>\n",
              "      <th>Open</th>\n",
              "      <th>Volume</th>\n",
              "      <th>Return</th>\n",
              "      <th>Direction</th>\n",
              "    </tr>\n",
              "    <tr>\n",
              "      <th>Ticker</th>\n",
              "      <th>SPY</th>\n",
              "      <th>SPY</th>\n",
              "      <th>SPY</th>\n",
              "      <th>SPY</th>\n",
              "      <th>SPY</th>\n",
              "      <th></th>\n",
              "      <th></th>\n",
              "    </tr>\n",
              "    <tr>\n",
              "      <th>Date</th>\n",
              "      <th></th>\n",
              "      <th></th>\n",
              "      <th></th>\n",
              "      <th></th>\n",
              "      <th></th>\n",
              "      <th></th>\n",
              "      <th></th>\n",
              "    </tr>\n",
              "  </thead>\n",
              "  <tbody>\n",
              "    <tr>\n",
              "      <th>2018-01-03</th>\n",
              "      <td>240.077667</td>\n",
              "      <td>240.228576</td>\n",
              "      <td>238.737335</td>\n",
              "      <td>238.737335</td>\n",
              "      <td>90070400</td>\n",
              "      <td>0.006325</td>\n",
              "      <td>1</td>\n",
              "    </tr>\n",
              "    <tr>\n",
              "      <th>2018-01-04</th>\n",
              "      <td>241.089584</td>\n",
              "      <td>241.577798</td>\n",
              "      <td>240.139839</td>\n",
              "      <td>240.725679</td>\n",
              "      <td>80636400</td>\n",
              "      <td>0.004215</td>\n",
              "      <td>1</td>\n",
              "    </tr>\n",
              "    <tr>\n",
              "      <th>2018-01-05</th>\n",
              "      <td>242.696182</td>\n",
              "      <td>242.820437</td>\n",
              "      <td>241.391363</td>\n",
              "      <td>241.888434</td>\n",
              "      <td>83524000</td>\n",
              "      <td>0.006664</td>\n",
              "      <td>1</td>\n",
              "    </tr>\n",
              "    <tr>\n",
              "      <th>2018-01-08</th>\n",
              "      <td>243.140106</td>\n",
              "      <td>243.299873</td>\n",
              "      <td>242.305730</td>\n",
              "      <td>242.598637</td>\n",
              "      <td>57319200</td>\n",
              "      <td>0.001829</td>\n",
              "      <td>1</td>\n",
              "    </tr>\n",
              "    <tr>\n",
              "      <th>2018-01-09</th>\n",
              "      <td>243.690369</td>\n",
              "      <td>244.320579</td>\n",
              "      <td>243.282039</td>\n",
              "      <td>243.566087</td>\n",
              "      <td>57254000</td>\n",
              "      <td>0.002263</td>\n",
              "      <td>1</td>\n",
              "    </tr>\n",
              "  </tbody>\n",
              "</table>\n",
              "</div>\n",
              "    <div class=\"colab-df-buttons\">\n",
              "\n",
              "  <div class=\"colab-df-container\">\n",
              "    <button class=\"colab-df-convert\" onclick=\"convertToInteractive('df-a453f44a-2a0b-4d19-812e-60763cd0de33')\"\n",
              "            title=\"Convert this dataframe to an interactive table.\"\n",
              "            style=\"display:none;\">\n",
              "\n",
              "  <svg xmlns=\"http://www.w3.org/2000/svg\" height=\"24px\" viewBox=\"0 -960 960 960\">\n",
              "    <path d=\"M120-120v-720h720v720H120Zm60-500h600v-160H180v160Zm220 220h160v-160H400v160Zm0 220h160v-160H400v160ZM180-400h160v-160H180v160Zm440 0h160v-160H620v160ZM180-180h160v-160H180v160Zm440 0h160v-160H620v160Z\"/>\n",
              "  </svg>\n",
              "    </button>\n",
              "\n",
              "  <style>\n",
              "    .colab-df-container {\n",
              "      display:flex;\n",
              "      gap: 12px;\n",
              "    }\n",
              "\n",
              "    .colab-df-convert {\n",
              "      background-color: #E8F0FE;\n",
              "      border: none;\n",
              "      border-radius: 50%;\n",
              "      cursor: pointer;\n",
              "      display: none;\n",
              "      fill: #1967D2;\n",
              "      height: 32px;\n",
              "      padding: 0 0 0 0;\n",
              "      width: 32px;\n",
              "    }\n",
              "\n",
              "    .colab-df-convert:hover {\n",
              "      background-color: #E2EBFA;\n",
              "      box-shadow: 0px 1px 2px rgba(60, 64, 67, 0.3), 0px 1px 3px 1px rgba(60, 64, 67, 0.15);\n",
              "      fill: #174EA6;\n",
              "    }\n",
              "\n",
              "    .colab-df-buttons div {\n",
              "      margin-bottom: 4px;\n",
              "    }\n",
              "\n",
              "    [theme=dark] .colab-df-convert {\n",
              "      background-color: #3B4455;\n",
              "      fill: #D2E3FC;\n",
              "    }\n",
              "\n",
              "    [theme=dark] .colab-df-convert:hover {\n",
              "      background-color: #434B5C;\n",
              "      box-shadow: 0px 1px 3px 1px rgba(0, 0, 0, 0.15);\n",
              "      filter: drop-shadow(0px 1px 2px rgba(0, 0, 0, 0.3));\n",
              "      fill: #FFFFFF;\n",
              "    }\n",
              "  </style>\n",
              "\n",
              "    <script>\n",
              "      const buttonEl =\n",
              "        document.querySelector('#df-a453f44a-2a0b-4d19-812e-60763cd0de33 button.colab-df-convert');\n",
              "      buttonEl.style.display =\n",
              "        google.colab.kernel.accessAllowed ? 'block' : 'none';\n",
              "\n",
              "      async function convertToInteractive(key) {\n",
              "        const element = document.querySelector('#df-a453f44a-2a0b-4d19-812e-60763cd0de33');\n",
              "        const dataTable =\n",
              "          await google.colab.kernel.invokeFunction('convertToInteractive',\n",
              "                                                    [key], {});\n",
              "        if (!dataTable) return;\n",
              "\n",
              "        const docLinkHtml = 'Like what you see? Visit the ' +\n",
              "          '<a target=\"_blank\" href=https://colab.research.google.com/notebooks/data_table.ipynb>data table notebook</a>'\n",
              "          + ' to learn more about interactive tables.';\n",
              "        element.innerHTML = '';\n",
              "        dataTable['output_type'] = 'display_data';\n",
              "        await google.colab.output.renderOutput(dataTable, element);\n",
              "        const docLink = document.createElement('div');\n",
              "        docLink.innerHTML = docLinkHtml;\n",
              "        element.appendChild(docLink);\n",
              "      }\n",
              "    </script>\n",
              "  </div>\n",
              "\n",
              "\n",
              "    <div id=\"df-71c2d681-74c2-415c-a91a-2b4963e2583b\">\n",
              "      <button class=\"colab-df-quickchart\" onclick=\"quickchart('df-71c2d681-74c2-415c-a91a-2b4963e2583b')\"\n",
              "                title=\"Suggest charts\"\n",
              "                style=\"display:none;\">\n",
              "\n",
              "<svg xmlns=\"http://www.w3.org/2000/svg\" height=\"24px\"viewBox=\"0 0 24 24\"\n",
              "     width=\"24px\">\n",
              "    <g>\n",
              "        <path d=\"M19 3H5c-1.1 0-2 .9-2 2v14c0 1.1.9 2 2 2h14c1.1 0 2-.9 2-2V5c0-1.1-.9-2-2-2zM9 17H7v-7h2v7zm4 0h-2V7h2v10zm4 0h-2v-4h2v4z\"/>\n",
              "    </g>\n",
              "</svg>\n",
              "      </button>\n",
              "\n",
              "<style>\n",
              "  .colab-df-quickchart {\n",
              "      --bg-color: #E8F0FE;\n",
              "      --fill-color: #1967D2;\n",
              "      --hover-bg-color: #E2EBFA;\n",
              "      --hover-fill-color: #174EA6;\n",
              "      --disabled-fill-color: #AAA;\n",
              "      --disabled-bg-color: #DDD;\n",
              "  }\n",
              "\n",
              "  [theme=dark] .colab-df-quickchart {\n",
              "      --bg-color: #3B4455;\n",
              "      --fill-color: #D2E3FC;\n",
              "      --hover-bg-color: #434B5C;\n",
              "      --hover-fill-color: #FFFFFF;\n",
              "      --disabled-bg-color: #3B4455;\n",
              "      --disabled-fill-color: #666;\n",
              "  }\n",
              "\n",
              "  .colab-df-quickchart {\n",
              "    background-color: var(--bg-color);\n",
              "    border: none;\n",
              "    border-radius: 50%;\n",
              "    cursor: pointer;\n",
              "    display: none;\n",
              "    fill: var(--fill-color);\n",
              "    height: 32px;\n",
              "    padding: 0;\n",
              "    width: 32px;\n",
              "  }\n",
              "\n",
              "  .colab-df-quickchart:hover {\n",
              "    background-color: var(--hover-bg-color);\n",
              "    box-shadow: 0 1px 2px rgba(60, 64, 67, 0.3), 0 1px 3px 1px rgba(60, 64, 67, 0.15);\n",
              "    fill: var(--button-hover-fill-color);\n",
              "  }\n",
              "\n",
              "  .colab-df-quickchart-complete:disabled,\n",
              "  .colab-df-quickchart-complete:disabled:hover {\n",
              "    background-color: var(--disabled-bg-color);\n",
              "    fill: var(--disabled-fill-color);\n",
              "    box-shadow: none;\n",
              "  }\n",
              "\n",
              "  .colab-df-spinner {\n",
              "    border: 2px solid var(--fill-color);\n",
              "    border-color: transparent;\n",
              "    border-bottom-color: var(--fill-color);\n",
              "    animation:\n",
              "      spin 1s steps(1) infinite;\n",
              "  }\n",
              "\n",
              "  @keyframes spin {\n",
              "    0% {\n",
              "      border-color: transparent;\n",
              "      border-bottom-color: var(--fill-color);\n",
              "      border-left-color: var(--fill-color);\n",
              "    }\n",
              "    20% {\n",
              "      border-color: transparent;\n",
              "      border-left-color: var(--fill-color);\n",
              "      border-top-color: var(--fill-color);\n",
              "    }\n",
              "    30% {\n",
              "      border-color: transparent;\n",
              "      border-left-color: var(--fill-color);\n",
              "      border-top-color: var(--fill-color);\n",
              "      border-right-color: var(--fill-color);\n",
              "    }\n",
              "    40% {\n",
              "      border-color: transparent;\n",
              "      border-right-color: var(--fill-color);\n",
              "      border-top-color: var(--fill-color);\n",
              "    }\n",
              "    60% {\n",
              "      border-color: transparent;\n",
              "      border-right-color: var(--fill-color);\n",
              "    }\n",
              "    80% {\n",
              "      border-color: transparent;\n",
              "      border-right-color: var(--fill-color);\n",
              "      border-bottom-color: var(--fill-color);\n",
              "    }\n",
              "    90% {\n",
              "      border-color: transparent;\n",
              "      border-bottom-color: var(--fill-color);\n",
              "    }\n",
              "  }\n",
              "</style>\n",
              "\n",
              "      <script>\n",
              "        async function quickchart(key) {\n",
              "          const quickchartButtonEl =\n",
              "            document.querySelector('#' + key + ' button');\n",
              "          quickchartButtonEl.disabled = true;  // To prevent multiple clicks.\n",
              "          quickchartButtonEl.classList.add('colab-df-spinner');\n",
              "          try {\n",
              "            const charts = await google.colab.kernel.invokeFunction(\n",
              "                'suggestCharts', [key], {});\n",
              "          } catch (error) {\n",
              "            console.error('Error during call to suggestCharts:', error);\n",
              "          }\n",
              "          quickchartButtonEl.classList.remove('colab-df-spinner');\n",
              "          quickchartButtonEl.classList.add('colab-df-quickchart-complete');\n",
              "        }\n",
              "        (() => {\n",
              "          let quickchartButtonEl =\n",
              "            document.querySelector('#df-71c2d681-74c2-415c-a91a-2b4963e2583b button');\n",
              "          quickchartButtonEl.style.display =\n",
              "            google.colab.kernel.accessAllowed ? 'block' : 'none';\n",
              "        })();\n",
              "      </script>\n",
              "    </div>\n",
              "\n",
              "    </div>\n",
              "  </div>\n"
            ],
            "application/vnd.google.colaboratory.intrinsic+json": {
              "type": "dataframe",
              "variable_name": "data",
              "summary": "{\n  \"name\": \"data\",\n  \"rows\": 1759,\n  \"fields\": [\n    {\n      \"column\": [\n        \"Date\",\n        \"\"\n      ],\n      \"properties\": {\n        \"dtype\": \"date\",\n        \"min\": \"2018-01-03 00:00:00\",\n        \"max\": \"2024-12-30 00:00:00\",\n        \"num_unique_values\": 1759,\n        \"samples\": [\n          \"2022-06-23 00:00:00\",\n          \"2022-02-04 00:00:00\",\n          \"2023-10-09 00:00:00\"\n        ],\n        \"semantic_type\": \"\",\n        \"description\": \"\"\n      }\n    },\n    {\n      \"column\": [\n        \"Close\",\n        \"SPY\"\n      ],\n      \"properties\": {\n        \"dtype\": \"number\",\n        \"std\": 97.61548165672056,\n        \"min\": 206.6833038330078,\n        \"max\": 602.1741333007812,\n        \"num_unique_values\": 1738,\n        \"samples\": [\n          293.0809020996094,\n          481.7950134277344,\n          437.8877868652344\n        ],\n        \"semantic_type\": \"\",\n        \"description\": \"\"\n      }\n    },\n    {\n      \"column\": [\n        \"High\",\n        \"SPY\"\n      ],\n      \"properties\": {\n        \"dtype\": \"number\",\n        \"std\": 97.8340933162315,\n        \"min\": 212.92227118348825,\n        \"max\": 603.4224597376833,\n        \"num_unique_values\": 1758,\n        \"samples\": [\n          373.8710742986345,\n          429.04697155726353,\n          427.3866245469699\n        ],\n        \"semantic_type\": \"\",\n        \"description\": \"\"\n      }\n    },\n    {\n      \"column\": [\n        \"Low\",\n        \"SPY\"\n      ],\n      \"properties\": {\n        \"dtype\": \"number\",\n        \"std\": 97.30621512328595,\n        \"min\": 202.33548946726125,\n        \"max\": 601.3914802745837,\n        \"num_unique_values\": 1759,\n        \"samples\": [\n          357.3862190720576,\n          422.2353046179218,\n          417.40622681216456\n        ],\n        \"semantic_type\": \"\",\n        \"description\": \"\"\n      }\n    },\n    {\n      \"column\": [\n        \"Open\",\n        \"SPY\"\n      ],\n      \"properties\": {\n        \"dtype\": \"number\",\n        \"std\": 97.6012751571376,\n        \"min\": 211.54099238315243,\n        \"max\": 602.0552810191066,\n        \"num_unique_values\": 1759,\n        \"samples\": [\n          360.98030383934145,\n          424.63271183828147,\n          417.9633844028283\n        ],\n        \"semantic_type\": \"\",\n        \"description\": \"\"\n      }\n    },\n    {\n      \"column\": [\n        \"Volume\",\n        \"SPY\"\n      ],\n      \"properties\": {\n        \"dtype\": \"number\",\n        \"std\": 41688272,\n        \"min\": 20270000,\n        \"max\": 392220700,\n        \"num_unique_values\": 1759,\n        \"samples\": [\n          79292100,\n          118454400,\n          80374400\n        ],\n        \"semantic_type\": \"\",\n        \"description\": \"\"\n      }\n    },\n    {\n      \"column\": [\n        \"Return\",\n        \"\"\n      ],\n      \"properties\": {\n        \"dtype\": \"number\",\n        \"std\": 0.012262375777435951,\n        \"min\": -0.10942402741202606,\n        \"max\": 0.09060296428320691,\n        \"num_unique_values\": 1756,\n        \"samples\": [\n          -0.002446700277247915,\n          -0.007662260405700505,\n          0.002641857665384828\n        ],\n        \"semantic_type\": \"\",\n        \"description\": \"\"\n      }\n    },\n    {\n      \"column\": [\n        \"Direction\",\n        \"\"\n      ],\n      \"properties\": {\n        \"dtype\": \"number\",\n        \"std\": 0,\n        \"min\": 0,\n        \"max\": 1,\n        \"num_unique_values\": 2,\n        \"samples\": [\n          0,\n          1\n        ],\n        \"semantic_type\": \"\",\n        \"description\": \"\"\n      }\n    }\n  ]\n}"
            }
          },
          "metadata": {},
          "execution_count": 2
        }
      ],
      "source": [
        "ticker = 'SPY'\n",
        "data = yf.download(ticker, start='2018-01-01', end='2024-12-31')\n",
        "\n",
        "price_col = 'Adj Close' if 'Adj Close' in data.columns else 'Close'\n",
        "data['Return'] = data[price_col].pct_change()\n",
        "data['Direction'] = np.where(data['Return'] > 0, 1, 0)\n",
        "data.dropna(inplace=True)\n",
        "data.head()"
      ]
    },
    {
      "cell_type": "markdown",
      "id": "39d56767",
      "metadata": {
        "id": "39d56767"
      },
      "source": [
        "## 🔧 Step 2: Feature Engineering"
      ]
    },
    {
      "cell_type": "code",
      "execution_count": 3,
      "id": "8c6e20a7",
      "metadata": {
        "id": "8c6e20a7"
      },
      "outputs": [],
      "source": [
        "data['SMA_5'] = data[price_col].rolling(5).mean()\n",
        "data['SMA_10'] = data[price_col].rolling(10).mean()\n",
        "data['Volatility'] = data['Return'].rolling(10).std()\n",
        "data['Momentum_5'] = data[price_col].pct_change(5)\n",
        "data.dropna(inplace=True)\n",
        "\n",
        "features = ['SMA_5', 'SMA_10', 'Volatility', 'Momentum_5']\n",
        "X = data[features]\n",
        "y = data['Direction']"
      ]
    },
    {
      "cell_type": "markdown",
      "id": "1d167be6",
      "metadata": {
        "id": "1d167be6"
      },
      "source": [
        "## 🤖 Step 3: Train Models"
      ]
    },
    {
      "cell_type": "code",
      "execution_count": 4,
      "id": "08656e0f",
      "metadata": {
        "id": "08656e0f"
      },
      "outputs": [],
      "source": [
        "X_train, X_test, y_train, y_test = train_test_split(X, y, test_size=0.2, shuffle=False)\n",
        "\n",
        "# Logistic Regression\n",
        "log_reg = LogisticRegression()\n",
        "log_reg.fit(X_train, y_train)\n",
        "log_preds = log_reg.predict(X_test)\n",
        "\n",
        "# Random Forest\n",
        "rf = RandomForestClassifier()\n",
        "rf.fit(X_train, y_train)\n",
        "rf_preds = rf.predict(X_test)\n"
      ]
    },
    {
      "cell_type": "markdown",
      "id": "786a61cd",
      "metadata": {
        "id": "786a61cd"
      },
      "source": [
        "## 📊 Step 4: Evaluate Performance"
      ]
    },
    {
      "cell_type": "code",
      "execution_count": 5,
      "id": "d1c8b938",
      "metadata": {
        "colab": {
          "base_uri": "https://localhost:8080/"
        },
        "id": "d1c8b938",
        "outputId": "40b6c731-4978-47b5-f6b8-9b82a3f6cb47"
      },
      "outputs": [
        {
          "output_type": "stream",
          "name": "stdout",
          "text": [
            "Logistic Regression Report:\n",
            "              precision    recall  f1-score   support\n",
            "\n",
            "           0       0.51      0.67      0.58       145\n",
            "           1       0.70      0.54      0.61       205\n",
            "\n",
            "    accuracy                           0.59       350\n",
            "   macro avg       0.60      0.61      0.59       350\n",
            "weighted avg       0.62      0.59      0.60       350\n",
            "\n",
            "Random Forest Report:\n",
            "              precision    recall  f1-score   support\n",
            "\n",
            "           0       0.47      0.81      0.60       145\n",
            "           1       0.73      0.37      0.49       205\n",
            "\n",
            "    accuracy                           0.55       350\n",
            "   macro avg       0.60      0.59      0.54       350\n",
            "weighted avg       0.62      0.55      0.53       350\n",
            "\n",
            "Baseline Accuracy (always UP): 0.59\n",
            "Random Forest Accuracy: 0.55\n",
            "Confusion Matrix (RF):\n",
            " [[117  28]\n",
            " [130  75]]\n"
          ]
        }
      ],
      "source": [
        "print(\"Logistic Regression Report:\")\n",
        "print(classification_report(y_test, log_preds))\n",
        "\n",
        "print(\"Random Forest Report:\")\n",
        "print(classification_report(y_test, rf_preds))\n",
        "\n",
        "# Baseline comparison: always predict UP\n",
        "baseline_preds = np.ones_like(y_test)\n",
        "baseline_acc = accuracy_score(y_test, baseline_preds)\n",
        "rf_acc = accuracy_score(y_test, rf_preds)\n",
        "\n",
        "print(f\"Baseline Accuracy (always UP): {baseline_acc:.2f}\")\n",
        "print(f\"Random Forest Accuracy: {rf_acc:.2f}\")\n",
        "\n",
        "# Confusion matrix\n",
        "conf_matrix = confusion_matrix(y_test, rf_preds)\n",
        "print(\"Confusion Matrix (RF):\\n\", conf_matrix)"
      ]
    },
    {
      "cell_type": "markdown",
      "id": "59de3303",
      "metadata": {
        "id": "59de3303"
      },
      "source": [
        "## 📈 Step 5: Backtest Simple Strategy"
      ]
    },
    {
      "cell_type": "code",
      "execution_count": 6,
      "id": "03a8e974",
      "metadata": {
        "colab": {
          "base_uri": "https://localhost:8080/",
          "height": 480
        },
        "id": "03a8e974",
        "outputId": "ac30fae4-ba97-4605-ae07-6c036e28f627"
      },
      "outputs": [
        {
          "output_type": "display_data",
          "data": {
            "text/plain": [
              "<Figure size 1000x500 with 1 Axes>"
            ],
            "image/png": "[encoded data removed]"
          },
          "metadata": {}
        }
      ],
      "source": [
        "test_data = data.loc[X_test.index].copy()\n",
        "test_data['Strategy'] = rf_preds\n",
        "test_data['Market Return'] = test_data['Return']\n",
        "test_data['Strategy Return'] = test_data['Market Return'] * test_data['Strategy']\n",
        "\n",
        "test_data[['Market Return', 'Strategy Return']].cumsum().plot(figsize=(10, 5))\n",
        "plt.title(\"Cumulative Returns: Strategy vs Market\")\n",
        "plt.xlabel(\"Date\")\n",
        "plt.ylabel(\"Cumulative Return\")\n",
        "plt.show()"
      ]
    },
    {
      "cell_type": "markdown",
      "id": "604ec3f3",
      "metadata": {
        "id": "604ec3f3"
      },
      "source": [
        "## 📐 Step 6: Sharpe Ratio"
      ]
    },
    {
      "cell_type": "code",
      "execution_count": 7,
      "id": "f4de5525",
      "metadata": {
        "colab": {
          "base_uri": "https://localhost:8080/"
        },
        "id": "f4de5525",
        "outputId": "4dad70a4-db1a-4a1f-ac30-646a890ea780"
      },
      "outputs": [
        {
          "output_type": "stream",
          "name": "stdout",
          "text": [
            "Strategy Sharpe Ratio: 0.25\n",
            "Market Sharpe Ratio: 0.11\n"
          ]
        }
      ],
      "source": [
        "def sharpe_ratio(returns, risk_free_rate=0.00):\n",
        "    excess_returns = returns - risk_free_rate / 252\n",
        "    return np.mean(excess_returns) / np.std(excess_returns)\n",
        "\n",
        "strategy_sr = sharpe_ratio(test_data['Strategy Return'])\n",
        "market_sr = sharpe_ratio(test_data['Market Return'])\n",
        "\n",
        "print(f\"Strategy Sharpe Ratio: {strategy_sr:.2f}\")\n",
        "print(f\"Market Sharpe Ratio: {market_sr:.2f}\")"
      ]
    },
    {
      "cell_type": "markdown",
      "id": "9a5c4627",
      "metadata": {
        "id": "9a5c4627"
      },
      "source": [
        "## 💾 Step 7: Save the Trained Model"
      ]
    },
    {
      "cell_type": "code",
      "execution_count": 8,
      "id": "7e86cfe8",
      "metadata": {
        "colab": {
          "base_uri": "https://localhost:8080/"
        },
        "id": "7e86cfe8",
        "outputId": "ab3a2cf1-3da0-4ea1-f7a4-1a4e3a218529"
      },
      "outputs": [
        {
          "output_type": "execute_result",
          "data": {
            "text/plain": [
              "['random_forest_model.pkl']"
            ]
          },
          "metadata": {},
          "execution_count": 8
        }
      ],
      "source": [
        "joblib.dump(rf, 'random_forest_model.pkl')"
      ]
    },
    {
      "cell_type": "markdown",
      "id": "054f9d97",
      "metadata": {
        "id": "054f9d97"
      },
      "source": [
        "## ✅ Next Steps\n",
        "- Add more features (e.g., RSI, MACD, volume)\n",
        "- Try other tickers or sectors\n",
        "- Test more advanced models (XGBoost, LSTM)\n",
        "- Publish to GitHub and write a short blog post\n",
        "- Connect it to a real-time Streamlit dashboard!"
      ]
    }
  ],
  "metadata": {
    "colab": {
      "provenance": [],
      "include_colab_link": true
    },
    "language_info": {
      "name": "python"
    },
    "kernelspec": {
      "name": "python3",
      "display_name": "Python 3"
    }
  },
  "nbformat": 4,
  "nbformat_minor": 5
}