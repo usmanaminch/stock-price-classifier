{
 "cells": [
  {
   "cell_type": "markdown",
   "id": "772b241e",
   "metadata": {},
   "source": [
    "# 📈 Stock Price Direction Classifier — Upgraded Version\n",
    "A machine learning model to predict whether the next day's market return will be positive or negative. Includes momentum indicators, baseline comparisons, and backtest with Sharpe Ratio."
   ]
  },
  {
   "cell_type": "code",
   "execution_count": null,
   "id": "5f10b106",
   "metadata": {},
   "outputs": [],
   "source": [
    "# Install required packages (if running locally)\n",
    "# !pip install yfinance scikit-learn matplotlib pandas seaborn joblib\n",
    "\n",
    "import yfinance as yf\n",
    "import pandas as pd\n",
    "import numpy as np\n",
    "import matplotlib.pyplot as plt\n",
    "import seaborn as sns\n",
    "import joblib\n",
    "\n",
    "from sklearn.model_selection import train_test_split\n",
    "from sklearn.ensemble import RandomForestClassifier\n",
    "from sklearn.linear_model import LogisticRegression\n",
    "from sklearn.metrics import classification_report, confusion_matrix, accuracy_score\n",
    "\n",
    "sns.set()\n"
   ]
  },
  {
   "cell_type": "markdown",
   "id": "35d3fee8",
   "metadata": {},
   "source": [
    "## 🧩 Step 1: Load Market Data"
   ]
  },
  {
   "cell_type": "code",
   "execution_count": null,
   "id": "04e35069",
   "metadata": {},
   "outputs": [],
   "source": [
    "ticker = 'SPY'\n",
    "data = yf.download(ticker, start='2018-01-01', end='2024-12-31')\n",
    "\n",
    "price_col = 'Adj Close' if 'Adj Close' in data.columns else 'Close'\n",
    "data['Return'] = data[price_col].pct_change()\n",
    "data['Direction'] = np.where(data['Return'] > 0, 1, 0)\n",
    "data.dropna(inplace=True)\n",
    "data.head()"
   ]
  },
  {
   "cell_type": "markdown",
   "id": "39d56767",
   "metadata": {},
   "source": [
    "## 🔧 Step 2: Feature Engineering"
   ]
  },
  {
   "cell_type": "code",
   "execution_count": null,
   "id": "8c6e20a7",
   "metadata": {},
   "outputs": [],
   "source": [
    "data['SMA_5'] = data[price_col].rolling(5).mean()\n",
    "data['SMA_10'] = data[price_col].rolling(10).mean()\n",
    "data['Volatility'] = data['Return'].rolling(10).std()\n",
    "data['Momentum_5'] = data[price_col].pct_change(5)\n",
    "data.dropna(inplace=True)\n",
    "\n",
    "features = ['SMA_5', 'SMA_10', 'Volatility', 'Momentum_5']\n",
    "X = data[features]\n",
    "y = data['Direction']"
   ]
  },
  {
   "cell_type": "markdown",
   "id": "1d167be6",
   "metadata": {},
   "source": [
    "## 🤖 Step 3: Train Models"
   ]
  },
  {
   "cell_type": "code",
   "execution_count": null,
   "id": "08656e0f",
   "metadata": {},
   "outputs": [],
   "source": [
    "X_train, X_test, y_train, y_test = train_test_split(X, y, test_size=0.2, shuffle=False)\n",
    "\n",
    "# Logistic Regression\n",
    "log_reg = LogisticRegression()\n",
    "log_reg.fit(X_train, y_train)\n",
    "log_preds = log_reg.predict(X_test)\n",
    "\n",
    "# Random Forest\n",
    "rf = RandomForestClassifier()\n",
    "rf.fit(X_train, y_train)\n",
    "rf_preds = rf.predict(X_test)\n"
   ]
  },
  {
   "cell_type": "markdown",
   "id": "786a61cd",
   "metadata": {},
   "source": [
    "## 📊 Step 4: Evaluate Performance"
   ]
  },
  {
   "cell_type": "code",
   "execution_count": null,
   "id": "d1c8b938",
   "metadata": {},
   "outputs": [],
   "source": [
    "print(\"Logistic Regression Report:\")\n",
    "print(classification_report(y_test, log_preds))\n",
    "\n",
    "print(\"Random Forest Report:\")\n",
    "print(classification_report(y_test, rf_preds))\n",
    "\n",
    "# Baseline comparison: always predict UP\n",
    "baseline_preds = np.ones_like(y_test)\n",
    "baseline_acc = accuracy_score(y_test, baseline_preds)\n",
    "rf_acc = accuracy_score(y_test, rf_preds)\n",
    "\n",
    "print(f\"Baseline Accuracy (always UP): {baseline_acc:.2f}\")\n",
    "print(f\"Random Forest Accuracy: {rf_acc:.2f}\")\n",
    "\n",
    "# Confusion matrix\n",
    "conf_matrix = confusion_matrix(y_test, rf_preds)\n",
    "print(\"Confusion Matrix (RF):\\n\", conf_matrix)"
   ]
  },
  {
   "cell_type": "markdown",
   "id": "59de3303",
   "metadata": {},
   "source": [
    "## 📈 Step 5: Backtest Simple Strategy"
   ]
  },
  {
   "cell_type": "code",
   "execution_count": null,
   "id": "03a8e974",
   "metadata": {},
   "outputs": [],
   "source": [
    "test_data = data.loc[X_test.index].copy()\n",
    "test_data['Strategy'] = rf_preds\n",
    "test_data['Market Return'] = test_data['Return']\n",
    "test_data['Strategy Return'] = test_data['Market Return'] * test_data['Strategy']\n",
    "\n",
    "test_data[['Market Return', 'Strategy Return']].cumsum().plot(figsize=(10, 5))\n",
    "plt.title(\"Cumulative Returns: Strategy vs Market\")\n",
    "plt.xlabel(\"Date\")\n",
    "plt.ylabel(\"Cumulative Return\")\n",
    "plt.show()"
   ]
  },
  {
   "cell_type": "markdown",
   "id": "604ec3f3",
   "metadata": {},
   "source": [
    "## 📐 Step 6: Sharpe Ratio"
   ]
  },
  {
   "cell_type": "code",
   "execution_count": null,
   "id": "f4de5525",
   "metadata": {},
   "outputs": [],
   "source": [
    "def sharpe_ratio(returns, risk_free_rate=0.00):\n",
    "    excess_returns = returns - risk_free_rate / 252\n",
    "    return np.mean(excess_returns) / np.std(excess_returns)\n",
    "\n",
    "strategy_sr = sharpe_ratio(test_data['Strategy Return'])\n",
    "market_sr = sharpe_ratio(test_data['Market Return'])\n",
    "\n",
    "print(f\"Strategy Sharpe Ratio: {strategy_sr:.2f}\")\n",
    "print(f\"Market Sharpe Ratio: {market_sr:.2f}\")"
   ]
  },
  {
   "cell_type": "markdown",
   "id": "9a5c4627",
   "metadata": {},
   "source": [
    "## 💾 Step 7: Save the Trained Model"
   ]
  },
  {
   "cell_type": "code",
   "execution_count": null,
   "id": "7e86cfe8",
   "metadata": {},
   "outputs": [],
   "source": [
    "joblib.dump(rf, 'random_forest_model.pkl')"
   ]
  },
  {
   "cell_type": "markdown",
   "id": "054f9d97",
   "metadata": {},
   "source": [
    "## ✅ Next Steps\n",
    "- Add more features (e.g., RSI, MACD, volume)\n",
    "- Try other tickers or sectors\n",
    "- Test more advanced models (XGBoost, LSTM)\n",
    "- Publish to GitHub and write a short blog post\n",
    "- Connect it to a real-time Streamlit dashboard!"
   ]
  }
 ],
 "metadata": {},
 "nbformat": 4,
 "nbformat_minor": 5
}